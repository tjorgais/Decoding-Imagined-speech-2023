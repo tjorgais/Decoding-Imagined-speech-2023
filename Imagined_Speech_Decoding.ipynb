{
  "cells": [
    {
      "cell_type": "code",
      "execution_count": 2,
      "metadata": {
        "id": "7Tri3eHjn9oY"
      },
      "outputs": [],
      "source": [
        "import os\n",
        "import sys\n",
        "import re\n",
        "import numpy as np\n",
        "import pandas as pd\n",
        "import scipy.io as sio\n",
        "import matplotlib.pyplot as plt\n",
        "from scipy.stats import kurtosis, skew\n",
        "from sklearn.preprocessing import StandardScaler\n",
        "from sklearn.model_selection import train_test_split\n",
        "from sklearn.decomposition import PCA\n",
        "from sklearn.svm import SVC\n",
        "from sklearn.ensemble import RandomForestClassifier\n",
        "from sklearn.metrics import accuracy_score, precision_score, recall_score, f1_score\n",
        "from sklearn.neural_network import MLPClassifier\n"
      ]
    },
    {
      "cell_type": "code",
      "execution_count": 3,
      "metadata": {
        "id": "FfReGJfW5HD3"
      },
      "outputs": [],
      "source": [
        "#Importing the data\n",
        "datasub2 = sio.loadmat('Long_Words/sub_2b_ch64_l_eog_removed_256Hz.mat')['eeg_data_wrt_task_rep_no_eog_256Hz_last_beep']\n",
        "datasub3 = sio.loadmat('Long_Words/sub_3b_ch80_l_eog_removed_256Hz.mat')['eeg_data_wrt_task_rep_no_eog_256Hz_last_beep']\n",
        "datasub6 = sio.loadmat('Long_Words/sub_6_ch64_l_eog_removed_256Hz.mat')['eeg_data_wrt_task_rep_no_eog_256Hz_last_beep']\n",
        "datasub7 = sio.loadmat('Long_Words/sub_7_ch64_l_eog_removed_256Hz.mat')['eeg_data_wrt_task_rep_no_eog_256Hz_last_beep']\n",
        "datasub9 = sio.loadmat('Long_Words/sub_9c_ch64_l_eog_removed_256Hz.mat')['eeg_data_wrt_task_rep_no_eog_256Hz_last_beep']\n",
        "datasub2 = sio.loadmat('Long_Words/sub_11b_ch64_l_eog_removed_256Hz.mat')['eeg_data_wrt_task_rep_no_eog_256Hz_last_beep']"
      ]
    },
    {
      "cell_type": "code",
      "execution_count": null,
      "metadata": {
        "id": "aG6xzzz38-LW"
      },
      "outputs": [],
      "source": [
        "\n",
        "\n",
        "def compute_time_domain_features(eeg_data):\n",
        "    time_features = {}\n",
        "\n",
        "    # Mean\n",
        "    time_features['mean'] = np.mean(eeg_data)\n",
        "\n",
        "    # Standard deviation\n",
        "    time_features['std'] = np.std(eeg_data)\n",
        "\n",
        "    # Kurtosis\n",
        "    time_features['kurtosis'] = kurtosis(eeg_data)\n",
        "\n",
        "    # Energy\n",
        "    time_features['Energy'] = np.sum(np.square(eeg_data))\n",
        "\n",
        "    # RMS (Root Mean Square)\n",
        "    time_features['RMS'] = np.sqrt(np.mean(np.square(eeg_data)))\n",
        "\n",
        "    # Zero-crossing rate\n",
        "    zero_crossings = np.where(np.diff(np.sign(eeg_data)))[0]\n",
        "    zero_crossing_rate = len(zero_crossings) / (len(eeg_data) - 1)\n",
        "    time_features['Zero-crossing rate'] = zero_crossing_rate\n",
        "\n",
        "    # Hjorth parameters\n",
        "    # Hjorth parameters\n",
        "    time_features['hjorth_activity'] = np.sqrt(time_features['Energy'] / time_features['std']**2)\n",
        "    time_features['hjorth_mobility'] = time_features['mean'] / time_features['std']\n",
        "    time_features['hjorth_complexity'] = time_features['kurtosis'] / (time_features['std']**4)\n",
        "\n",
        "    # Skewness\n",
        "    time_features['Skewness'] = skew(eeg_data)\n",
        "\n",
        "    # Median\n",
        "    time_features['Median'] = np.median(eeg_data)\n",
        "\n",
        "\n",
        "    # Range\n",
        "    time_features['Range'] = np.ptp(eeg_data)\n",
        "\n",
        "    # Inter-quartile range\n",
        "    time_features['Inter-quartile range'] = np.percentile(eeg_data, 75) - np.percentile(eeg_data, 25)\n",
        "\n",
        "    # Variance\n",
        "    time_features['Variance'] = np.var(eeg_data)\n",
        "\n",
        "    # # Autocorrelation\n",
        "    # autocorr = np.correlate(eeg_data, eeg_data, mode='full')\n",
        "    # time_features['Autocorrelation'] = autocorr[len(autocorr)//2:]\n",
        "\n",
        "\n",
        "    return time_features"
      ]
    },
    {
      "cell_type": "code",
      "execution_count": null,
      "metadata": {
        "id": "5reZk8108-Eu"
      },
      "outputs": [],
      "source": [
        "def extract_features(eeg_data):\n",
        "  channels_to_select = [i for i in range(64) if i not in [0, 9, 32, 63]]  # Channels to select (excluding 0, 9, 32, and 63)\n",
        "  data=eeg_data[channels_to_select,:]\n",
        "  features=[]\n",
        "\n",
        "  for i in range(60):\n",
        "    results=compute_time_domain_features(data[i,:])\n",
        "    features.extend(list(results.values()))\n",
        "    \n",
        "\n",
        "    \n",
        "  return features\n",
        "\n",
        "\n"
      ]
    },
    {
      "cell_type": "code",
      "execution_count": null,
      "metadata": {
        "id": "lJ0JFV8k8-Bt"
      },
      "outputs": [],
      "source": [
        "# function for data augmentation\n",
        "def data_augmentation(data):\n",
        "    # Find the shape of the data\n",
        "    n,m=data.shape\n",
        "    # Initialize the array\n",
        "    result=np.empty((0,840))\n",
        "    j=0\n",
        "    \n",
        "    # Loop through the data with a stride of 64 samples\n",
        "    for i in range(0, 1280, 64):\n",
        "    # Select a window of 256 samples from the data, starting at index i\n",
        "        window = data[:, i:i+256]\n",
        "        features=extract_features(window)\n",
        "        \n",
        "        result=np.vstack((result, (np.array(features)).reshape((1,-1))))\n",
        "        \n",
        "\n",
        "        # Stop the loop if i+256 is greater than or equal to 1280\n",
        "        if i+256 >= 1280:\n",
        "            break\n",
        "    \n",
        "    \n",
        "        \n",
        "    return result"
      ]
    },
    {
      "cell_type": "code",
      "execution_count": null,
      "metadata": {
        "id": "_QykjQA589-N"
      },
      "outputs": [],
      "source": [
        "\n",
        "def Augmentation_feature(data):\n",
        "    # find the dimension\n",
        "    n,m=data.shape\n",
        "    #iterating over words\n",
        "\n",
        "    feature= np.empty((0,841))\n",
        "    #Iterating over word type\n",
        "    for i in range(n):\n",
        "        #iterating over trials\n",
        "        for j in range(m):\n",
        "            # applying the data augmentation function\n",
        "\n",
        "            window=data_augmentation(data[i][j])\n",
        "            if i==0:\n",
        "              label=np.zeros((17,1))\n",
        "              window=np.hstack((window, label))\n",
        "            else:\n",
        "              label=np.ones((17,1))\n",
        "              window=np.hstack((window, label))\n",
        "            feature=np.vstack((feature, window))\n",
        "          \n",
        "\n",
        "    return feature"
      ]
    },
    {
      "cell_type": "code",
      "execution_count": null,
      "metadata": {
        "id": "oVDSZ4hWyvzv"
      },
      "outputs": [],
      "source": [
        "def calculate_performance(y_test, y_pred):\n",
        "    accuracy = accuracy_score(y_test, y_pred)\n",
        "    precision = precision_score(y_test, y_pred)\n",
        "    recall = recall_score(y_test, y_pred)\n",
        "    f1 = f1_score(y_test, y_pred)\n",
        "    print(f'accuracy: {accuracy}, precision: {precision}, recall: {recall}, f1 {f1}')\n",
        "\n"
      ]
    },
    {
      "cell_type": "code",
      "execution_count": null,
      "metadata": {
        "id": "pFer3wbrxofP"
      },
      "outputs": [],
      "source": [
        "def train_model(eeg_data):\n",
        "  data=Augmentation_feature(eeg_data)\n",
        "  features=data[:,:-1]\n",
        "  label=data[:,-1]\n",
        "    \n",
        "  # Example usage\n",
        "  X_train, X_test, y_train, y_test = train_test_split(features, label, test_size=0.2, random_state=42)\n",
        "  scaler = StandardScaler()\n",
        "  train_data = scaler.fit_transform(X_train)\n",
        "  test_data = scaler.transform(X_test)\n",
        "  n_components =   200# Specify the number of components you want to keep\n",
        "\n",
        "  pca = PCA(n_components=n_components)\n",
        "  train_pca = pca.fit_transform(train_data)\n",
        "  test_pca = pca.transform(test_data)\n",
        "  y_train=y_train.astype(int)\n",
        "  y_test=y_test.astype(int)\n",
        "  \n",
        "  # Import other classifiers as needed\n",
        "\n",
        "  # Train classifiers with different n_components values\n",
        "  clf1 = SVC()\n",
        "  clf1.fit(train_pca, y_train)\n",
        "  y_pred_pca = clf1.predict(test_pca)\n",
        "  print(\"pca linear performance: \")\n",
        "  calculate_performance(y_test, y_pred_pca)\n",
        "\n",
        "  \n",
        "  clf2 = RandomForestClassifier()\n",
        "  clf2.fit(train_pca, y_train)\n",
        "  y_pred_rfc = clf2.predict(test_pca)\n",
        "  print(\"Random Forest performance: \")\n",
        "  calculate_performance(y_test, y_pred_rfc)\n",
        "\n",
        "  model = MLPClassifier(hidden_layer_sizes=(100,), activation='relu', solver='adam', random_state=42)\n",
        "  model.fit(train_pca, y_train)\n",
        "  y_pred = model.predict(test_pca)\n",
        "  y_pred_mlp = [round(value) for value in y_pred]\n",
        "  print('MLP performance: ')\n",
        "  calculate_performance(y_test, y_pred_mlp)\n",
        "\n",
        "\n",
        "\n",
        "\n",
        "\n",
        "\n",
        "\n",
        "\n",
        "\n",
        "\n",
        "\n",
        "\n",
        "\n"
      ]
    },
    {
      "cell_type": "code",
      "execution_count": null,
      "metadata": {
        "colab": {
          "base_uri": "https://localhost:8080/"
        },
        "id": "JHNuFseO2lrm",
        "outputId": "51b778fd-c1bb-48e1-afca-1ea4fd59ebbc"
      },
      "outputs": [
        {
          "name": "stdout",
          "output_type": "stream",
          "text": [
            "pca linear performance: \n",
            "accuracy: 0.6617647058823529, precision: 0.6270718232044199, recall: 0.7049689440993789, f1 0.6637426900584795\n",
            "Random Forest performance: \n",
            "accuracy: 0.7, precision: 0.6798780487804879, recall: 0.6925465838509317, f1 0.6861538461538462\n",
            "MLP performance: \n",
            "accuracy: 0.7955882352941176, precision: 0.771513353115727, recall: 0.8074534161490683, f1 0.7890743550834598\n"
          ]
        }
      ],
      "source": [
        "train_model(datasub2)"
      ]
    },
    {
      "cell_type": "code",
      "execution_count": null,
      "metadata": {
        "colab": {
          "base_uri": "https://localhost:8080/"
        },
        "id": "7J9PEW_98cf1",
        "outputId": "638b77b0-52f2-47a0-b5a2-ab1c67a326a1"
      },
      "outputs": [
        {
          "name": "stdout",
          "output_type": "stream",
          "text": [
            "pca linear performance: \n",
            "accuracy: 0.6691176470588235, precision: 0.6343490304709142, recall: 0.7111801242236024, f1 0.6705710102489019\n",
            "Random Forest performance: \n",
            "accuracy: 0.6941176470588235, precision: 0.6676470588235294, recall: 0.7049689440993789, f1 0.6858006042296072\n",
            "MLP performance: \n",
            "accuracy: 0.8529411764705882, precision: 0.846875, recall: 0.8416149068322981, f1 0.8442367601246105\n"
          ]
        }
      ],
      "source": [
        "train_model(datasub3)"
      ]
    },
    {
      "cell_type": "code",
      "execution_count": null,
      "metadata": {
        "colab": {
          "base_uri": "https://localhost:8080/"
        },
        "id": "VczqCkLp8zXN",
        "outputId": "63be74dd-5cf4-4a10-b199-880d89358762"
      },
      "outputs": [
        {
          "name": "stdout",
          "output_type": "stream",
          "text": [
            "pca linear performance: \n",
            "accuracy: 0.6441176470588236, precision: 0.6136363636363636, recall: 0.6708074534161491, f1 0.6409495548961425\n",
            "Random Forest performance: \n",
            "accuracy: 0.7323529411764705, precision: 0.7121212121212122, recall: 0.7298136645962733, f1 0.7208588957055214\n",
            "MLP performance: \n",
            "accuracy: 0.7970588235294118, precision: 0.7857142857142857, recall: 0.7857142857142857, f1 0.7857142857142857\n"
          ]
        }
      ],
      "source": [
        "train_model(datasub6)"
      ]
    },
    {
      "cell_type": "code",
      "execution_count": null,
      "metadata": {
        "colab": {
          "base_uri": "https://localhost:8080/"
        },
        "id": "yN9ixepy830r",
        "outputId": "c9e08812-728a-4c45-8bb3-497c06cd7b5c"
      },
      "outputs": [
        {
          "name": "stdout",
          "output_type": "stream",
          "text": [
            "pca linear performance: \n",
            "accuracy: 0.7823529411764706, precision: 0.7604790419161677, recall: 0.7888198757763976, f1 0.7743902439024389\n",
            "Random Forest performance: \n",
            "accuracy: 0.763235294117647, precision: 0.7388724035608308, recall: 0.7732919254658385, f1 0.7556904400606981\n",
            "MLP performance: \n",
            "accuracy: 0.8632352941176471, precision: 0.8438438438438438, recall: 0.8726708074534162, f1 0.8580152671755725\n"
          ]
        }
      ],
      "source": [
        "train_model(datasub9)"
      ]
    },
    {
      "cell_type": "code",
      "execution_count": null,
      "metadata": {
        "colab": {
          "base_uri": "https://localhost:8080/"
        },
        "id": "KN01Ag4I88vM",
        "outputId": "d603d07a-9e29-4bdf-8f7b-365de714e32f"
      },
      "outputs": [
        {
          "name": "stdout",
          "output_type": "stream",
          "text": [
            "pca linear performance: \n",
            "accuracy: 0.8073529411764706, precision: 0.7800586510263929, recall: 0.8260869565217391, f1 0.8024132730015083\n",
            "Random Forest performance: \n",
            "accuracy: 0.763235294117647, precision: 0.7588424437299035, recall: 0.7329192546583851, f1 0.7456556082148499\n",
            "MLP performance: \n",
            "accuracy: 0.8764705882352941, precision: 0.8628048780487805, recall: 0.8788819875776398, f1 0.8707692307692306\n"
          ]
        }
      ],
      "source": [
        "train_model(datasub7)"
      ]
    },
    {
      "cell_type": "code",
      "execution_count": null,
      "metadata": {
        "colab": {
          "base_uri": "https://localhost:8080/"
        },
        "id": "_dtmcXiN9Gly",
        "outputId": "af3f2006-45e8-427a-db97-d2defafcaf64"
      },
      "outputs": [
        {
          "name": "stdout",
          "output_type": "stream",
          "text": [
            "pca linear performance: \n",
            "accuracy: 0.6544117647058824, precision: 0.6211699164345403, recall: 0.6925465838509317, f1 0.6549192364170338\n",
            "Random Forest performance: \n",
            "accuracy: 0.7044117647058824, precision: 0.673352435530086, recall: 0.7298136645962733, f1 0.7004470938897168\n",
            "MLP performance: \n",
            "accuracy: 0.7970588235294118, precision: 0.772189349112426, recall: 0.8105590062111802, f1 0.7909090909090909\n"
          ]
        }
      ],
      "source": [
        "train_model(datasub11)"
      ]
    },
    {
      "cell_type": "code",
      "execution_count": null,
      "metadata": {
        "colab": {
          "base_uri": "https://localhost:8080/",
          "height": 105
        },
        "id": "jspBvFecRHjo",
        "outputId": "d80ee019-0f01-41a1-eec6-15fca67c4274"
      },
      "outputs": [
        {
          "data": {
            "application/vnd.google.colaboratory.intrinsic+json": {
              "type": "string"
            },
            "text/plain": [
              "\"\\npip install xgboost\\nimport xgboost as xgb\\ndtrain = xgb.DMatrix(X_train, label=y_train)\\ndtest = xgb.DMatrix(X_test, label=y_test)\\nparams = {\\n    'objective': 'binary:logistic',  # for binary classification\\n    'eval_metric': 'logloss',  # evaluation metric\\n    'max_depth': 3,  # maximum depth of a tree\\n    'eta': 0.1,  # learning rate\\n    'subsample': 0.8,  # subsample ratio of the training instances\\n    'colsample_bytree': 0.8  # subsample ratio of columns when constructing each tree\\n}\\nnum_rounds = 100  # number of boosting rounds\\nmodel = xgb.train(params, dtrain, num_rounds)\\ny_pred = model.predict(dtest)\\ny_pred_labels = [round(value) for value in y_pred]\\naccuracy = accuracy_score(y_test, y_pred_labels)\\n\""
            ]
          },
          "execution_count": 16,
          "metadata": {},
          "output_type": "execute_result"
        }
      ],
      "source": [
        "'''\n",
        "pip install xgboost\n",
        "import xgboost as xgb\n",
        "dtrain = xgb.DMatrix(X_train, label=y_train)\n",
        "dtest = xgb.DMatrix(X_test, label=y_test)\n",
        "params = {\n",
        "    'objective': 'binary:logistic',  # for binary classification\n",
        "    'eval_metric': 'logloss',  # evaluation metric\n",
        "    'max_depth': 3,  # maximum depth of a tree\n",
        "    'eta': 0.1,  # learning rate\n",
        "    'subsample': 0.8,  # subsample ratio of the training instances\n",
        "    'colsample_bytree': 0.8  # subsample ratio of columns when constructing each tree\n",
        "}\n",
        "num_rounds = 100  # number of boosting rounds\n",
        "model = xgb.train(params, dtrain, num_rounds)\n",
        "y_pred = model.predict(dtest)\n",
        "y_pred_labels = [round(value) for value in y_pred]\n",
        "accuracy = accuracy_score(y_test, y_pred_labels)\n",
        "'''"
      ]
    },
    {
      "cell_type": "code",
      "execution_count": null,
      "metadata": {
        "colab": {
          "base_uri": "https://localhost:8080/",
          "height": 53
        },
        "id": "A6USqqefFTFe",
        "outputId": "8af12da4-5da0-426d-89df-17724c1ef7ca"
      },
      "outputs": [
        {
          "data": {
            "application/vnd.google.colaboratory.intrinsic+json": {
              "type": "string"
            },
            "text/plain": [
              "\"\\npca = PCA()\\npca.fit(train_data)\\n\\ncumulative_variance_ratio = np.cumsum(pca.explained_variance_ratio_)\\nplt.plot(range(1, len(cumulative_variance_ratio) + 1), cumulative_variance_ratio)\\nplt.xlabel('Number of Components')\\nplt.ylabel('Cumulative Explained Variance Ratio')\\nplt.show()\\n\""
            ]
          },
          "execution_count": 29,
          "metadata": {},
          "output_type": "execute_result"
        }
      ],
      "source": [
        "'''\n",
        "pca = PCA()\n",
        "pca.fit(train_data)\n",
        "\n",
        "cumulative_variance_ratio = np.cumsum(pca.explained_variance_ratio_)\n",
        "plt.plot(range(1, len(cumulative_variance_ratio) + 1), cumulative_variance_ratio)\n",
        "plt.xlabel('Number of Components')\n",
        "plt.ylabel('Cumulative Explained Variance Ratio')\n",
        "plt.show()\n",
        "'''"
      ]
    },
    {
      "cell_type": "code",
      "execution_count": null,
      "metadata": {
        "colab": {
          "base_uri": "https://localhost:8080/",
          "height": 380
        },
        "id": "32gLgA2AJ49i",
        "outputId": "b869ae72-5301-4133-e815-ad176c1143b2"
      },
      "outputs": [
        {
          "ename": "ValueError",
          "evalue": "ignored",
          "output_type": "error",
          "traceback": [
            "\u001b[0;31m---------------------------------------------------------------------------\u001b[0m",
            "\u001b[0;31mValueError\u001b[0m                                Traceback (most recent call last)",
            "\u001b[0;32m<ipython-input-6-bf745ab2f2c6>\u001b[0m in \u001b[0;36m<cell line: 71>\u001b[0;34m()\u001b[0m\n\u001b[1;32m     74\u001b[0m \u001b[0;34m\u001b[0m\u001b[0m\n\u001b[1;32m     75\u001b[0m   \u001b[0;31m# Optimize RADWT using PSO.\u001b[0m\u001b[0;34m\u001b[0m\u001b[0;34m\u001b[0m\u001b[0m\n\u001b[0;32m---> 76\u001b[0;31m   \u001b[0moptimal_params\u001b[0m \u001b[0;34m=\u001b[0m \u001b[0moptimize_radwt\u001b[0m\u001b[0;34m(\u001b[0m\u001b[0meeg_signal\u001b[0m\u001b[0;34m)\u001b[0m\u001b[0;34m\u001b[0m\u001b[0;34m\u001b[0m\u001b[0m\n\u001b[0m\u001b[1;32m     77\u001b[0m \u001b[0;34m\u001b[0m\u001b[0m\n\u001b[1;32m     78\u001b[0m   \u001b[0;31m# Reconstruct the signal using the optimal RADWT parameters.\u001b[0m\u001b[0;34m\u001b[0m\u001b[0;34m\u001b[0m\u001b[0m\n",
            "\u001b[0;32m<ipython-input-6-bf745ab2f2c6>\u001b[0m in \u001b[0;36moptimize_radwt\u001b[0;34m(eeg_signal)\u001b[0m\n\u001b[1;32m     64\u001b[0m \u001b[0;34m\u001b[0m\u001b[0m\n\u001b[1;32m     65\u001b[0m   \u001b[0;31m# Optimize the RADWT parameters using PSO.\u001b[0m\u001b[0;34m\u001b[0m\u001b[0;34m\u001b[0m\u001b[0m\n\u001b[0;32m---> 66\u001b[0;31m   \u001b[0mresult\u001b[0m \u001b[0;34m=\u001b[0m \u001b[0mminimize\u001b[0m\u001b[0;34m(\u001b[0m\u001b[0mobjective_function\u001b[0m\u001b[0;34m,\u001b[0m \u001b[0mparams\u001b[0m\u001b[0;34m,\u001b[0m \u001b[0margs\u001b[0m\u001b[0;34m=\u001b[0m\u001b[0;34m(\u001b[0m\u001b[0meeg_signal\u001b[0m\u001b[0;34m,\u001b[0m\u001b[0;34m)\u001b[0m\u001b[0;34m,\u001b[0m \u001b[0mmethod\u001b[0m\u001b[0;34m=\u001b[0m\u001b[0;34m'PSO'\u001b[0m\u001b[0;34m,\u001b[0m \u001b[0moptions\u001b[0m\u001b[0;34m=\u001b[0m\u001b[0;34m{\u001b[0m\u001b[0;34m'popsize'\u001b[0m\u001b[0;34m:\u001b[0m \u001b[0;36m100\u001b[0m\u001b[0;34m,\u001b[0m \u001b[0;34m'maxiter'\u001b[0m\u001b[0;34m:\u001b[0m \u001b[0;36m100\u001b[0m\u001b[0;34m}\u001b[0m\u001b[0;34m)\u001b[0m\u001b[0;34m\u001b[0m\u001b[0;34m\u001b[0m\u001b[0m\n\u001b[0m\u001b[1;32m     67\u001b[0m \u001b[0;34m\u001b[0m\u001b[0m\n\u001b[1;32m     68\u001b[0m   \u001b[0;31m# Return the optimal PSO parameters.\u001b[0m\u001b[0;34m\u001b[0m\u001b[0;34m\u001b[0m\u001b[0m\n",
            "\u001b[0;32m/usr/local/lib/python3.10/dist-packages/scipy/optimize/_minimize.py\u001b[0m in \u001b[0;36mminimize\u001b[0;34m(fun, x0, args, method, jac, hess, hessp, bounds, constraints, tol, callback, options)\u001b[0m\n\u001b[1;32m    722\u001b[0m                                           callback=callback, **options)\n\u001b[1;32m    723\u001b[0m     \u001b[0;32melse\u001b[0m\u001b[0;34m:\u001b[0m\u001b[0;34m\u001b[0m\u001b[0;34m\u001b[0m\u001b[0m\n\u001b[0;32m--> 724\u001b[0;31m         \u001b[0;32mraise\u001b[0m \u001b[0mValueError\u001b[0m\u001b[0;34m(\u001b[0m\u001b[0;34m'Unknown solver %s'\u001b[0m \u001b[0;34m%\u001b[0m \u001b[0mmethod\u001b[0m\u001b[0;34m)\u001b[0m\u001b[0;34m\u001b[0m\u001b[0;34m\u001b[0m\u001b[0m\n\u001b[0m\u001b[1;32m    725\u001b[0m \u001b[0;34m\u001b[0m\u001b[0m\n\u001b[1;32m    726\u001b[0m     \u001b[0;32mif\u001b[0m \u001b[0mremove_vars\u001b[0m\u001b[0;34m:\u001b[0m\u001b[0;34m\u001b[0m\u001b[0;34m\u001b[0m\u001b[0m\n",
            "\u001b[0;31mValueError\u001b[0m: Unknown solver PSO"
          ]
        }
      ],
      "source": [
        "import numpy as np\n",
        "from pywt import wavedec, waverec\n",
        "from scipy.optimize import minimize\n",
        "\n",
        "def radwt_features(eeg_signal, wavelet='db4', levels=4, p=2, q=2, s=0):\n",
        "  \"\"\"\n",
        "  This function finds features using RADWT on an EEG signal.\n",
        "\n",
        "  Args:\n",
        "    eeg_signal (np.array): The EEG signal.\n",
        "    wavelet (str): The wavelet to use.\n",
        "    levels (int): The number of levels of wavelet decomposition.\n",
        "    p (int): The number of vanishing moments.\n",
        "    q (int): The number of vanishing moments of the detail coefficients.\n",
        "    s (int): The number of vanishing moments of the approximation coefficients.\n",
        "\n",
        "  Returns:\n",
        "    A list of features.\n",
        "  \"\"\"\n",
        "\n",
        "  # Get the wavelet coefficients.\n",
        "  wavelet_coeffs = wavedec(eeg_signal, wavelet, levels, p, q, s)\n",
        "\n",
        "  # Extract the energy of each level of wavelet coefficients.\n",
        "  energy = np.array([np.sum(coeff**2) for coeff in wavelet_coeffs])\n",
        "\n",
        "  # Return the energy of each level of wavelet coefficients as features.\n",
        "  return energy\n",
        "\n",
        "def objective_function(params, eeg_signal):\n",
        "  \"\"\"\n",
        "  This function defines the objective function for PSO.\n",
        "\n",
        "  Args:\n",
        "    params (list): The PSO parameters.\n",
        "    eeg_signal (np.array): The EEG signal.\n",
        "\n",
        "  Returns:\n",
        "    The objective function value.\n",
        "  \"\"\"\n",
        "\n",
        "  # Reconstruct the signal using RADWT.\n",
        "  reconstructed_signal = waverec(eeg_signal, params)\n",
        "\n",
        "  # Calculate the MSE of the reconstructed signal.\n",
        "  mse = np.mean((eeg_signal - reconstructed_signal)**2)\n",
        "\n",
        "  # Return the MSE.\n",
        "  return mse\n",
        "\n",
        "def optimize_radwt(eeg_signal):\n",
        "  \"\"\"\n",
        "  This function optimizes RADWT using PSO.\n",
        "\n",
        "  Args:\n",
        "    eeg_signal (np.array): The EEG signal.\n",
        "\n",
        "  Returns:\n",
        "    The optimal PSO parameters.\n",
        "  \"\"\"\n",
        "\n",
        "  # Initialize the PSO parameters.\n",
        "  params = [0.5, 0.5, 2, 2, 0]\n",
        "\n",
        "  # Optimize the RADWT parameters using PSO.\n",
        "  result = minimize(objective_function, params, args=(eeg_signal,), method='PSO', options={'popsize': 100, 'maxiter': 100})\n",
        "\n",
        "  # Return the optimal PSO parameters.\n",
        "  return result.x\n",
        "\n",
        "if __name__ == '__main__':\n",
        "  # Load the EEG signal.\n",
        "  eeg_signal = datasub2[0][0][1]\n",
        "\n",
        "  # Optimize RADWT using PSO.\n",
        "  optimal_params = optimize_radwt(eeg_signal)\n",
        "\n",
        "  # Reconstruct the signal using the optimal RADWT parameters.\n",
        "  reconstructed_signal = waverec(eeg_signal, optimal_params)\n",
        "\n",
        "  # Get the wavelet coefficients of the reconstructed signal.\n",
        "  wavelet_coeffs = wavedec(reconstructed_signal, 'db4')\n",
        "\n",
        "  # Extract the energy of each level of wavelet coefficients.\n",
        "  energy = np.array([np.sum(coeff**2) for coeff in wavelet_coeffs])\n",
        "\n",
        "  # Print the features.\n",
        "  print(energy)\n",
        "\n",
        "  # Print the number of levels of wavelet decomposition used.\n",
        "  print(optimal_params[0])"
      ]
    },
    {
      "cell_type": "code",
      "execution_count": null,
      "metadata": {
        "colab": {
          "base_uri": "https://localhost:8080/"
        },
        "id": "wQLcgES0w4h7",
        "outputId": "745ceba5-6a07-4285-eb01-d93a8b977ce1"
      },
      "outputs": [
        {
          "name": "stdout",
          "output_type": "stream",
          "text": [
            "Looking in indexes: https://pypi.org/simple, https://us-python.pkg.dev/colab-wheels/public/simple/\n",
            "Collecting pyswarms\n",
            "  Downloading pyswarms-1.3.0-py2.py3-none-any.whl (104 kB)\n",
            "\u001b[2K     \u001b[90m━━━━━━━━━━━━━━━━━━━━━━━━━━━━━━━━━━━━━━━\u001b[0m \u001b[32m104.1/104.1 kB\u001b[0m \u001b[31m7.4 MB/s\u001b[0m eta \u001b[36m0:00:00\u001b[0m\n",
            "\u001b[?25hRequirement already satisfied: scipy in /usr/local/lib/python3.10/dist-packages (from pyswarms) (1.10.1)\n",
            "Requirement already satisfied: numpy in /usr/local/lib/python3.10/dist-packages (from pyswarms) (1.22.4)\n",
            "Requirement already satisfied: matplotlib>=1.3.1 in /usr/local/lib/python3.10/dist-packages (from pyswarms) (3.7.1)\n",
            "Requirement already satisfied: attrs in /usr/local/lib/python3.10/dist-packages (from pyswarms) (23.1.0)\n",
            "Requirement already satisfied: tqdm in /usr/local/lib/python3.10/dist-packages (from pyswarms) (4.65.0)\n",
            "Requirement already satisfied: future in /usr/local/lib/python3.10/dist-packages (from pyswarms) (0.18.3)\n",
            "Requirement already satisfied: pyyaml in /usr/local/lib/python3.10/dist-packages (from pyswarms) (6.0)\n",
            "Requirement already satisfied: contourpy>=1.0.1 in /usr/local/lib/python3.10/dist-packages (from matplotlib>=1.3.1->pyswarms) (1.0.7)\n",
            "Requirement already satisfied: cycler>=0.10 in /usr/local/lib/python3.10/dist-packages (from matplotlib>=1.3.1->pyswarms) (0.11.0)\n",
            "Requirement already satisfied: fonttools>=4.22.0 in /usr/local/lib/python3.10/dist-packages (from matplotlib>=1.3.1->pyswarms) (4.39.3)\n",
            "Requirement already satisfied: kiwisolver>=1.0.1 in /usr/local/lib/python3.10/dist-packages (from matplotlib>=1.3.1->pyswarms) (1.4.4)\n",
            "Requirement already satisfied: packaging>=20.0 in /usr/local/lib/python3.10/dist-packages (from matplotlib>=1.3.1->pyswarms) (23.1)\n",
            "Requirement already satisfied: pillow>=6.2.0 in /usr/local/lib/python3.10/dist-packages (from matplotlib>=1.3.1->pyswarms) (8.4.0)\n",
            "Requirement already satisfied: pyparsing>=2.3.1 in /usr/local/lib/python3.10/dist-packages (from matplotlib>=1.3.1->pyswarms) (3.0.9)\n",
            "Requirement already satisfied: python-dateutil>=2.7 in /usr/local/lib/python3.10/dist-packages (from matplotlib>=1.3.1->pyswarms) (2.8.2)\n",
            "Requirement already satisfied: six>=1.5 in /usr/local/lib/python3.10/dist-packages (from python-dateutil>=2.7->matplotlib>=1.3.1->pyswarms) (1.16.0)\n",
            "Installing collected packages: pyswarms\n",
            "Successfully installed pyswarms-1.3.0\n"
          ]
        }
      ],
      "source": [
        "pip install pyswarms"
      ]
    },
    {
      "cell_type": "code",
      "execution_count": null,
      "metadata": {
        "colab": {
          "base_uri": "https://localhost:8080/",
          "height": 658
        },
        "id": "TQBl-qn45xUW",
        "outputId": "3f978ccc-038c-4237-a078-e1870959ba54"
      },
      "outputs": [
        {
          "name": "stderr",
          "output_type": "stream",
          "text": [
            "2023-05-15 10:15:22,083 - pyswarms.single.global_best - INFO - Optimize for 200 iters with {'c1': 1.3, 'c2': 1.3, 'w': 0.9}\n",
            "pyswarms.single.global_best:   0%|          |0/200\n"
          ]
        },
        {
          "ename": "TypeError",
          "evalue": "ignored",
          "output_type": "error",
          "traceback": [
            "\u001b[0;31m---------------------------------------------------------------------------\u001b[0m",
            "\u001b[0;31mTypeError\u001b[0m                                 Traceback (most recent call last)",
            "\u001b[0;32m<ipython-input-27-d2fab905d031>\u001b[0m in \u001b[0;36m<cell line: 48>\u001b[0;34m()\u001b[0m\n\u001b[1;32m     51\u001b[0m \u001b[0;34m\u001b[0m\u001b[0m\n\u001b[1;32m     52\u001b[0m   \u001b[0;31m# Optimize RADWT using PSO.\u001b[0m\u001b[0;34m\u001b[0m\u001b[0;34m\u001b[0m\u001b[0m\n\u001b[0;32m---> 53\u001b[0;31m   \u001b[0moptimal_params\u001b[0m \u001b[0;34m=\u001b[0m \u001b[0moptimize_radwt\u001b[0m\u001b[0;34m(\u001b[0m\u001b[0meeg_signal\u001b[0m\u001b[0;34m)\u001b[0m\u001b[0;34m\u001b[0m\u001b[0;34m\u001b[0m\u001b[0m\n\u001b[0m\u001b[1;32m     54\u001b[0m \u001b[0;34m\u001b[0m\u001b[0m\n\u001b[1;32m     55\u001b[0m   \u001b[0;31m# Reconstruct the signal using the optimal RADWT parameters.\u001b[0m\u001b[0;34m\u001b[0m\u001b[0;34m\u001b[0m\u001b[0m\n",
            "\u001b[0;32m<ipython-input-27-d2fab905d031>\u001b[0m in \u001b[0;36moptimize_radwt\u001b[0;34m(eeg_signal)\u001b[0m\n\u001b[1;32m     41\u001b[0m \u001b[0;34m\u001b[0m\u001b[0m\n\u001b[1;32m     42\u001b[0m   \u001b[0;31m# Optimize the RADWT parameters using PSO.\u001b[0m\u001b[0;34m\u001b[0m\u001b[0;34m\u001b[0m\u001b[0m\n\u001b[0;32m---> 43\u001b[0;31m   \u001b[0mresult\u001b[0m \u001b[0;34m=\u001b[0m \u001b[0moptimizer\u001b[0m\u001b[0;34m.\u001b[0m\u001b[0moptimize\u001b[0m\u001b[0;34m(\u001b[0m\u001b[0mobjective_function\u001b[0m\u001b[0;34m,\u001b[0m \u001b[0miters\u001b[0m\u001b[0;34m=\u001b[0m\u001b[0;36m200\u001b[0m\u001b[0;34m)\u001b[0m\u001b[0;34m\u001b[0m\u001b[0;34m\u001b[0m\u001b[0m\n\u001b[0m\u001b[1;32m     44\u001b[0m \u001b[0;34m\u001b[0m\u001b[0m\n\u001b[1;32m     45\u001b[0m   \u001b[0;31m# Return the optimal PSO parameters.\u001b[0m\u001b[0;34m\u001b[0m\u001b[0;34m\u001b[0m\u001b[0m\n",
            "\u001b[0;32m/usr/local/lib/python3.10/dist-packages/pyswarms/single/global_best.py\u001b[0m in \u001b[0;36moptimize\u001b[0;34m(self, objective_func, iters, n_processes, verbose, **kwargs)\u001b[0m\n\u001b[1;32m    207\u001b[0m             \u001b[0;31m# Compute cost for current position and personal best\u001b[0m\u001b[0;34m\u001b[0m\u001b[0;34m\u001b[0m\u001b[0m\n\u001b[1;32m    208\u001b[0m             \u001b[0;31m# fmt: off\u001b[0m\u001b[0;34m\u001b[0m\u001b[0;34m\u001b[0m\u001b[0m\n\u001b[0;32m--> 209\u001b[0;31m             \u001b[0mself\u001b[0m\u001b[0;34m.\u001b[0m\u001b[0mswarm\u001b[0m\u001b[0;34m.\u001b[0m\u001b[0mcurrent_cost\u001b[0m \u001b[0;34m=\u001b[0m \u001b[0mcompute_objective_function\u001b[0m\u001b[0;34m(\u001b[0m\u001b[0mself\u001b[0m\u001b[0;34m.\u001b[0m\u001b[0mswarm\u001b[0m\u001b[0;34m,\u001b[0m \u001b[0mobjective_func\u001b[0m\u001b[0;34m,\u001b[0m \u001b[0mpool\u001b[0m\u001b[0;34m=\u001b[0m\u001b[0mpool\u001b[0m\u001b[0;34m,\u001b[0m \u001b[0;34m**\u001b[0m\u001b[0mkwargs\u001b[0m\u001b[0;34m)\u001b[0m\u001b[0;34m\u001b[0m\u001b[0;34m\u001b[0m\u001b[0m\n\u001b[0m\u001b[1;32m    210\u001b[0m             \u001b[0mself\u001b[0m\u001b[0;34m.\u001b[0m\u001b[0mswarm\u001b[0m\u001b[0;34m.\u001b[0m\u001b[0mpbest_pos\u001b[0m\u001b[0;34m,\u001b[0m \u001b[0mself\u001b[0m\u001b[0;34m.\u001b[0m\u001b[0mswarm\u001b[0m\u001b[0;34m.\u001b[0m\u001b[0mpbest_cost\u001b[0m \u001b[0;34m=\u001b[0m \u001b[0mcompute_pbest\u001b[0m\u001b[0;34m(\u001b[0m\u001b[0mself\u001b[0m\u001b[0;34m.\u001b[0m\u001b[0mswarm\u001b[0m\u001b[0;34m)\u001b[0m\u001b[0;34m\u001b[0m\u001b[0;34m\u001b[0m\u001b[0m\n\u001b[1;32m    211\u001b[0m             \u001b[0;31m# Set best_cost_yet_found for ftol\u001b[0m\u001b[0;34m\u001b[0m\u001b[0;34m\u001b[0m\u001b[0m\n",
            "\u001b[0;32m/usr/local/lib/python3.10/dist-packages/pyswarms/backend/operators.py\u001b[0m in \u001b[0;36mcompute_objective_function\u001b[0;34m(swarm, objective_func, pool, **kwargs)\u001b[0m\n\u001b[1;32m    237\u001b[0m     \"\"\"\n\u001b[1;32m    238\u001b[0m     \u001b[0;32mif\u001b[0m \u001b[0mpool\u001b[0m \u001b[0;32mis\u001b[0m \u001b[0;32mNone\u001b[0m\u001b[0;34m:\u001b[0m\u001b[0;34m\u001b[0m\u001b[0;34m\u001b[0m\u001b[0m\n\u001b[0;32m--> 239\u001b[0;31m         \u001b[0;32mreturn\u001b[0m \u001b[0mobjective_func\u001b[0m\u001b[0;34m(\u001b[0m\u001b[0mswarm\u001b[0m\u001b[0;34m.\u001b[0m\u001b[0mposition\u001b[0m\u001b[0;34m,\u001b[0m \u001b[0;34m**\u001b[0m\u001b[0mkwargs\u001b[0m\u001b[0;34m)\u001b[0m\u001b[0;34m\u001b[0m\u001b[0;34m\u001b[0m\u001b[0m\n\u001b[0m\u001b[1;32m    240\u001b[0m     \u001b[0;32melse\u001b[0m\u001b[0;34m:\u001b[0m\u001b[0;34m\u001b[0m\u001b[0;34m\u001b[0m\u001b[0m\n\u001b[1;32m    241\u001b[0m         results = pool.map(\n",
            "\u001b[0;31mTypeError\u001b[0m: objective_function() takes 0 positional arguments but 1 was given"
          ]
        }
      ],
      "source": [
        "from pyswarms.single.global_best import GlobalBestPSO\n",
        "eeg_signal=datasub2[0][0][1]\n",
        "def objective_function():\n",
        "  \"\"\"\n",
        "  This function defines the objective function for PSO.\n",
        "\n",
        "  Args:\n",
        "    params (list): The PSO parameters.\n",
        "    eeg_signal (np.array): The EEG signal.\n",
        "\n",
        "  Returns:\n",
        "    The objective function value.\n",
        "  \"\"\"\n",
        "\n",
        "\n",
        "  # Reconstruct the signal using RADWT.\n",
        "  reconstructed_signal = waverec( 'db4', level=4)\n",
        "\n",
        "  # Calculate the MSE of the reconstructed signal.\n",
        "  mse = np.mean((eeg_signal - reconstructed_signal)**2)\n",
        "\n",
        "  # Return the MSE.\n",
        "  return mse\n",
        "\n",
        "def optimize_radwt(eeg_signal):\n",
        "  \"\"\"\n",
        "  This function optimizes RADWT using PSO.\n",
        "\n",
        "  Args:\n",
        "    eeg_signal (np.array): The EEG signal.\n",
        "\n",
        "  Returns:\n",
        "    The optimal PSO parameters.\n",
        "  \"\"\"\n",
        "\n",
        "  # Initialize the PSO parameters.\n",
        "  options = {'c1': 1.3, 'c2': 1.3, 'w': 0.9}\n",
        "\n",
        "  # Create the PSO optimizer.\n",
        "  optimizer = GlobalBestPSO(n_particles=150, dimensions=4,  options=options)\n",
        "\n",
        "  # Optimize the RADWT parameters using PSO.\n",
        "  result = optimizer.optimize(objective_function, iters=200)\n",
        "\n",
        "  # Return the optimal PSO parameters.\n",
        "  return result.x\n",
        "\n",
        "if __name__ == '__main__':\n",
        "  # Load the EEG signal.\n",
        "  eeg_signal = datasub2[0][0][1]\n",
        "\n",
        "  # Optimize RADWT using PSO.\n",
        "  optimal_params = optimize_radwt(eeg_signal)\n",
        "\n",
        "  # Reconstruct the signal using the optimal RADWT parameters.\n",
        "  reconstructed_signal = waverec(optimal_params)\n",
        "\n",
        "  # Get the wavelet coefficients of the reconstructed signal.\n",
        "  wavelet_coeffs = wavedec(reconstructed_signal, 'db4')\n",
        "\n",
        "  # Extract the energy of each level of wavelet coefficients.\n",
        "  energy = np.array([np.sum(coeff**2) for coeff in wavelet_coeffs])\n",
        "\n",
        "  # Print the features.\n",
        "  print(energy)\n",
        "\n",
        "  # Print the number of levels of wavelet decomposition used.\n",
        "  print(optimal_params[0])"
      ]
    },
    {
      "cell_type": "code",
      "execution_count": null,
      "metadata": {
        "id": "PMN2KD9hrPi_"
      },
      "outputs": [],
      "source": [
        "eeg_signal=datasub2[0][0][1]"
      ]
    },
    {
      "cell_type": "code",
      "execution_count": null,
      "metadata": {
        "colab": {
          "base_uri": "https://localhost:8080/"
        },
        "id": "Yp-yGl0X2ntY",
        "outputId": "c4ace9c0-b85f-41ad-f2cb-bb04a3e5f8a5"
      },
      "outputs": [
        {
          "data": {
            "text/plain": [
              "array([-0.60453319, -4.32794179,  0.25399298, ..., -4.86514305,\n",
              "       -4.48801125, -1.74475553])"
            ]
          },
          "execution_count": 20,
          "metadata": {},
          "output_type": "execute_result"
        }
      ],
      "source": [
        "eeg_signal"
      ]
    },
    {
      "cell_type": "code",
      "execution_count": null,
      "metadata": {
        "colab": {
          "base_uri": "https://localhost:8080/",
          "height": 380
        },
        "id": "wjaQv5stVa2L",
        "outputId": "e85f4d50-bd81-4a5e-9926-9c273e5fe385"
      },
      "outputs": [
        {
          "name": "stderr",
          "output_type": "stream",
          "text": [
            "2023-05-15 10:08:11,069 - pyswarms.single.global_best - INFO - Optimize for 50 iters with {'c1': 2.0, 'c2': 2.0, 'w': 0.7}\n",
            "pyswarms.single.global_best:   0%|          |0/50\n"
          ]
        },
        {
          "ename": "ValueError",
          "evalue": "ignored",
          "output_type": "error",
          "traceback": [
            "\u001b[0;31m---------------------------------------------------------------------------\u001b[0m",
            "\u001b[0;31mValueError\u001b[0m                                Traceback (most recent call last)",
            "\u001b[0;32m<ipython-input-23-4786ca9737f7>\u001b[0m in \u001b[0;36m<cell line: 56>\u001b[0;34m()\u001b[0m\n\u001b[1;32m     54\u001b[0m \u001b[0;31m# Example usage\u001b[0m\u001b[0;34m\u001b[0m\u001b[0;34m\u001b[0m\u001b[0m\n\u001b[1;32m     55\u001b[0m \u001b[0meeg_data\u001b[0m \u001b[0;34m=\u001b[0m \u001b[0;34m...\u001b[0m  \u001b[0;31m# Your 5-second EEG data with shape (NUM_CHANNELS, SAMPLING_RATE * 5)\u001b[0m\u001b[0;34m\u001b[0m\u001b[0;34m\u001b[0m\u001b[0m\n\u001b[0;32m---> 56\u001b[0;31m \u001b[0mradwt_coefficients\u001b[0m \u001b[0;34m=\u001b[0m \u001b[0mpso_optimization\u001b[0m\u001b[0;34m(\u001b[0m\u001b[0meeg_data\u001b[0m\u001b[0;34m)\u001b[0m\u001b[0;34m\u001b[0m\u001b[0;34m\u001b[0m\u001b[0m\n\u001b[0m",
            "\u001b[0;32m<ipython-input-23-4786ca9737f7>\u001b[0m in \u001b[0;36mpso_optimization\u001b[0;34m(data)\u001b[0m\n\u001b[1;32m     45\u001b[0m \u001b[0;34m\u001b[0m\u001b[0m\n\u001b[1;32m     46\u001b[0m     \u001b[0;31m# Perform optimization\u001b[0m\u001b[0;34m\u001b[0m\u001b[0;34m\u001b[0m\u001b[0m\n\u001b[0;32m---> 47\u001b[0;31m     \u001b[0mbest_position\u001b[0m\u001b[0;34m,\u001b[0m \u001b[0m_\u001b[0m \u001b[0;34m=\u001b[0m \u001b[0moptimizer\u001b[0m\u001b[0;34m.\u001b[0m\u001b[0moptimize\u001b[0m\u001b[0;34m(\u001b[0m\u001b[0mobjective_function\u001b[0m\u001b[0;34m,\u001b[0m \u001b[0miters\u001b[0m\u001b[0;34m=\u001b[0m\u001b[0mMAX_ITERATIONS\u001b[0m\u001b[0;34m,\u001b[0m \u001b[0mdata\u001b[0m\u001b[0;34m=\u001b[0m\u001b[0mdata\u001b[0m\u001b[0;34m)\u001b[0m\u001b[0;34m\u001b[0m\u001b[0;34m\u001b[0m\u001b[0m\n\u001b[0m\u001b[1;32m     48\u001b[0m \u001b[0;34m\u001b[0m\u001b[0m\n\u001b[1;32m     49\u001b[0m     \u001b[0;31m# Decode the best position into RADWT coefficients\u001b[0m\u001b[0;34m\u001b[0m\u001b[0;34m\u001b[0m\u001b[0m\n",
            "\u001b[0;32m/usr/local/lib/python3.10/dist-packages/pyswarms/single/global_best.py\u001b[0m in \u001b[0;36moptimize\u001b[0;34m(self, objective_func, iters, n_processes, verbose, **kwargs)\u001b[0m\n\u001b[1;32m    207\u001b[0m             \u001b[0;31m# Compute cost for current position and personal best\u001b[0m\u001b[0;34m\u001b[0m\u001b[0;34m\u001b[0m\u001b[0m\n\u001b[1;32m    208\u001b[0m             \u001b[0;31m# fmt: off\u001b[0m\u001b[0;34m\u001b[0m\u001b[0;34m\u001b[0m\u001b[0m\n\u001b[0;32m--> 209\u001b[0;31m             \u001b[0mself\u001b[0m\u001b[0;34m.\u001b[0m\u001b[0mswarm\u001b[0m\u001b[0;34m.\u001b[0m\u001b[0mcurrent_cost\u001b[0m \u001b[0;34m=\u001b[0m \u001b[0mcompute_objective_function\u001b[0m\u001b[0;34m(\u001b[0m\u001b[0mself\u001b[0m\u001b[0;34m.\u001b[0m\u001b[0mswarm\u001b[0m\u001b[0;34m,\u001b[0m \u001b[0mobjective_func\u001b[0m\u001b[0;34m,\u001b[0m \u001b[0mpool\u001b[0m\u001b[0;34m=\u001b[0m\u001b[0mpool\u001b[0m\u001b[0;34m,\u001b[0m \u001b[0;34m**\u001b[0m\u001b[0mkwargs\u001b[0m\u001b[0;34m)\u001b[0m\u001b[0;34m\u001b[0m\u001b[0;34m\u001b[0m\u001b[0m\n\u001b[0m\u001b[1;32m    210\u001b[0m             \u001b[0mself\u001b[0m\u001b[0;34m.\u001b[0m\u001b[0mswarm\u001b[0m\u001b[0;34m.\u001b[0m\u001b[0mpbest_pos\u001b[0m\u001b[0;34m,\u001b[0m \u001b[0mself\u001b[0m\u001b[0;34m.\u001b[0m\u001b[0mswarm\u001b[0m\u001b[0;34m.\u001b[0m\u001b[0mpbest_cost\u001b[0m \u001b[0;34m=\u001b[0m \u001b[0mcompute_pbest\u001b[0m\u001b[0;34m(\u001b[0m\u001b[0mself\u001b[0m\u001b[0;34m.\u001b[0m\u001b[0mswarm\u001b[0m\u001b[0;34m)\u001b[0m\u001b[0;34m\u001b[0m\u001b[0;34m\u001b[0m\u001b[0m\n\u001b[1;32m    211\u001b[0m             \u001b[0;31m# Set best_cost_yet_found for ftol\u001b[0m\u001b[0;34m\u001b[0m\u001b[0;34m\u001b[0m\u001b[0m\n",
            "\u001b[0;32m/usr/local/lib/python3.10/dist-packages/pyswarms/backend/operators.py\u001b[0m in \u001b[0;36mcompute_objective_function\u001b[0;34m(swarm, objective_func, pool, **kwargs)\u001b[0m\n\u001b[1;32m    237\u001b[0m     \"\"\"\n\u001b[1;32m    238\u001b[0m     \u001b[0;32mif\u001b[0m \u001b[0mpool\u001b[0m \u001b[0;32mis\u001b[0m \u001b[0;32mNone\u001b[0m\u001b[0;34m:\u001b[0m\u001b[0;34m\u001b[0m\u001b[0;34m\u001b[0m\u001b[0m\n\u001b[0;32m--> 239\u001b[0;31m         \u001b[0;32mreturn\u001b[0m \u001b[0mobjective_func\u001b[0m\u001b[0;34m(\u001b[0m\u001b[0mswarm\u001b[0m\u001b[0;34m.\u001b[0m\u001b[0mposition\u001b[0m\u001b[0;34m,\u001b[0m \u001b[0;34m**\u001b[0m\u001b[0mkwargs\u001b[0m\u001b[0;34m)\u001b[0m\u001b[0;34m\u001b[0m\u001b[0;34m\u001b[0m\u001b[0m\n\u001b[0m\u001b[1;32m    240\u001b[0m     \u001b[0;32melse\u001b[0m\u001b[0;34m:\u001b[0m\u001b[0;34m\u001b[0m\u001b[0;34m\u001b[0m\u001b[0m\n\u001b[1;32m    241\u001b[0m         results = pool.map(\n",
            "\u001b[0;32m<ipython-input-23-4786ca9737f7>\u001b[0m in \u001b[0;36mobjective_function\u001b[0;34m(coefficients, data)\u001b[0m\n\u001b[1;32m     14\u001b[0m \u001b[0;32mdef\u001b[0m \u001b[0mobjective_function\u001b[0m\u001b[0;34m(\u001b[0m\u001b[0mcoefficients\u001b[0m\u001b[0;34m,\u001b[0m \u001b[0mdata\u001b[0m\u001b[0;34m)\u001b[0m\u001b[0;34m:\u001b[0m\u001b[0;34m\u001b[0m\u001b[0;34m\u001b[0m\u001b[0m\n\u001b[1;32m     15\u001b[0m     \u001b[0;31m# Apply RADWT on data using the given coefficients\u001b[0m\u001b[0;34m\u001b[0m\u001b[0;34m\u001b[0m\u001b[0m\n\u001b[0;32m---> 16\u001b[0;31m     \u001b[0mradwt_output\u001b[0m \u001b[0;34m=\u001b[0m \u001b[0mpywt\u001b[0m\u001b[0;34m.\u001b[0m\u001b[0mwaverec\u001b[0m\u001b[0;34m(\u001b[0m\u001b[0mcoefficients\u001b[0m\u001b[0;34m,\u001b[0m \u001b[0;34m'db4'\u001b[0m\u001b[0;34m)\u001b[0m\u001b[0;34m\u001b[0m\u001b[0;34m\u001b[0m\u001b[0m\n\u001b[0m\u001b[1;32m     17\u001b[0m \u001b[0;34m\u001b[0m\u001b[0m\n\u001b[1;32m     18\u001b[0m     \u001b[0;31m# Extract features from the RADWT output\u001b[0m\u001b[0;34m\u001b[0m\u001b[0;34m\u001b[0m\u001b[0m\n",
            "\u001b[0;32m/usr/local/lib/python3.10/dist-packages/pywt/_multilevel.py\u001b[0m in \u001b[0;36mwaverec\u001b[0;34m(coeffs, wavelet, mode, axis)\u001b[0m\n\u001b[1;32m    146\u001b[0m \u001b[0;34m\u001b[0m\u001b[0m\n\u001b[1;32m    147\u001b[0m     \u001b[0;32mif\u001b[0m \u001b[0;32mnot\u001b[0m \u001b[0misinstance\u001b[0m\u001b[0;34m(\u001b[0m\u001b[0mcoeffs\u001b[0m\u001b[0;34m,\u001b[0m \u001b[0;34m(\u001b[0m\u001b[0mlist\u001b[0m\u001b[0;34m,\u001b[0m \u001b[0mtuple\u001b[0m\u001b[0;34m)\u001b[0m\u001b[0;34m)\u001b[0m\u001b[0;34m:\u001b[0m\u001b[0;34m\u001b[0m\u001b[0;34m\u001b[0m\u001b[0m\n\u001b[0;32m--> 148\u001b[0;31m         \u001b[0;32mraise\u001b[0m \u001b[0mValueError\u001b[0m\u001b[0;34m(\u001b[0m\u001b[0;34m\"Expected sequence of coefficient arrays.\"\u001b[0m\u001b[0;34m)\u001b[0m\u001b[0;34m\u001b[0m\u001b[0;34m\u001b[0m\u001b[0m\n\u001b[0m\u001b[1;32m    149\u001b[0m \u001b[0;34m\u001b[0m\u001b[0m\n\u001b[1;32m    150\u001b[0m     \u001b[0;32mif\u001b[0m \u001b[0mlen\u001b[0m\u001b[0;34m(\u001b[0m\u001b[0mcoeffs\u001b[0m\u001b[0;34m)\u001b[0m \u001b[0;34m<\u001b[0m \u001b[0;36m1\u001b[0m\u001b[0;34m:\u001b[0m\u001b[0;34m\u001b[0m\u001b[0;34m\u001b[0m\u001b[0m\n",
            "\u001b[0;31mValueError\u001b[0m: Expected sequence of coefficient arrays."
          ]
        }
      ],
      "source": [
        "import numpy as np\n",
        "import pywt\n",
        "from sklearn.preprocessing import StandardScaler\n",
        "import pyswarms as ps\n",
        "\n",
        "# Constants\n",
        "NUM_CHANNELS = 64\n",
        "SAMPLING_RATE = 256\n",
        "DWT_LEVELS = 5\n",
        "NUM_PARTICLES = 30\n",
        "MAX_ITERATIONS = 50\n",
        "\n",
        "# Define the objective function (fitness function) to be optimized\n",
        "def objective_function(coefficients, data):\n",
        "    # Apply RADWT on data using the given coefficients\n",
        "    radwt_output = pywt.waverec(coefficients, 'db4')\n",
        "\n",
        "    # Extract features from the RADWT output\n",
        "    # You can customize this part based on the specific features you want to extract\n",
        "    # Here, we're calculating the mean and standard deviation for each channel\n",
        "    features = []\n",
        "    for channel_data in radwt_output:\n",
        "        channel_features = [\n",
        "            np.mean(channel_data),\n",
        "            np.std(channel_data)\n",
        "        ]\n",
        "        features.extend(channel_features)\n",
        "\n",
        "    return features\n",
        "\n",
        "# Define the Particle Swarm Optimization\n",
        "def pso_optimization(data):\n",
        "    # Normalize the data\n",
        "\n",
        "\n",
        "    # Define the bounds for the particle positions\n",
        "    bounds = ([-1] * NUM_CHANNELS * DWT_LEVELS, [1] * NUM_CHANNELS * DWT_LEVELS)\n",
        "\n",
        "    # Define the options for the optimizer\n",
        "    options = {'c1': 2.0, 'c2': 2.0, 'w': 0.7}\n",
        "\n",
        "    # Define the optimizer\n",
        "    optimizer = ps.single.GlobalBestPSO(n_particles=NUM_PARTICLES, dimensions=NUM_CHANNELS * DWT_LEVELS,\n",
        "                                        options=options, bounds=bounds)\n",
        "\n",
        "    # Perform optimization\n",
        "    best_position, _ = optimizer.optimize(objective_function, iters=MAX_ITERATIONS, data=data)\n",
        "\n",
        "    # Decode the best position into RADWT coefficients\n",
        "    best_coefficients, _ = pywt.coeffs_to_array(best_position, shape=(NUM_CHANNELS, DWT_LEVELS))\n",
        "\n",
        "    return best_coefficients\n",
        "\n",
        "# Example usage\n",
        "eeg_data = ...  # Your 5-second EEG data with shape (NUM_CHANNELS, SAMPLING_RATE * 5)\n",
        "radwt_coefficients = pso_optimization(eeg_data)"
      ]
    }
  ],
  "metadata": {
    "accelerator": "GPU",
    "colab": {
      "gpuType": "T4",
      "provenance": []
    },
    "gpuClass": "standard",
    "kernelspec": {
      "display_name": "Python 3",
      "name": "python3"
    },
    "language_info": {
      "codemirror_mode": {
        "name": "ipython",
        "version": 3
      },
      "file_extension": ".py",
      "mimetype": "text/x-python",
      "name": "python",
      "nbconvert_exporter": "python",
      "pygments_lexer": "ipython3",
      "version": "3.8.10"
    }
  },
  "nbformat": 4,
  "nbformat_minor": 0
}
